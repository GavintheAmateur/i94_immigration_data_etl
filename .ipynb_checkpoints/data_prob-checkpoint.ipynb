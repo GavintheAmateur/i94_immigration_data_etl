{
 "cells": [
  {
   "cell_type": "code",
   "execution_count": 1,
   "metadata": {
    "pycharm": {
     "name": "#%%\n"
    },
    "scrolled": true
   },
   "outputs": [
    {
     "name": "stdout",
     "output_type": "stream",
     "text": [
      "+------------------+----------------------+---------+------------+------------+----------+--------------+---+-------------+-----+----------+-----------------+----------+------------+--------------+-----------+---------------------------+----------+------------+----------+-------+----------------+-------------+---------+----+-----+\n",
      "|birth_country_code|residence_country_code|port_code|arrival_date|arrival_mode|state_code|departure_date|age|visa_category|count|date_added|visa_issuing_post|occupation|arrival_flag|departure_flag|update_flag|match_arrival_departure_fag|birth_year|allowed_date|ins_number|airline|admission_number|flight_number|visa_type|year|month|\n",
      "+------------------+----------------------+---------+------------+------------+----------+--------------+---+-------------+-----+----------+-----------------+----------+------------+--------------+-----------+---------------------------+----------+------------+----------+-------+----------------+-------------+---------+----+-----+\n",
      "|               245|                   438|      LOS|  2016-04-30|         Air|        CA|    2016-05-08| 40|     Business|    1|  20160430|              SYD|      null|           G|             O|       null|                          M|      1976|    10292016|      null|     QF|      2147483647|        00011|       B1|2016|    4|\n",
      "|               245|                   438|      LOS|  2016-04-30|         Air|        NV|    2016-05-17| 32|     Business|    1|  20160430|              SYD|      null|           G|             O|       null|                          M|      1984|    10292016|      null|     VA|      2147483647|        00007|       B1|2016|    4|\n",
      "|               245|                   438|      LOS|  2016-04-30|         Air|        WA|    2016-05-08| 29|     Business|    1|  20160430|              SYD|      null|           G|             O|       null|                          M|      1987|    10292016|      null|     DL|      2147483647|        00040|       B1|2016|    4|\n",
      "|               245|                   438|      LOS|  2016-04-30|         Air|        WA|    2016-05-14| 29|     Business|    1|  20160430|              SYD|      null|           G|             O|       null|                          M|      1987|    10292016|      null|     DL|      2147483647|        00040|       B1|2016|    4|\n",
      "|               245|                   438|      LOS|  2016-04-30|         Air|        WA|    2016-05-14| 28|     Business|    1|  20160430|              SYD|      null|           G|             O|       null|                          M|      1988|    10292016|      null|     DL|      2147483647|        00040|       B1|2016|    4|\n",
      "|               245|                   464|      HHW|  2016-04-30|         Air|        HI|    2016-05-05| 57|     Pleasure|    1|  20160430|              ACK|      null|           G|             O|       null|                          M|      1959|    10292016|      null|     NZ|      2147483647|        00010|       B2|2016|    4|\n",
      "|               245|                   464|      HHW|  2016-04-30|         Air|        HI|    2016-05-12| 66|     Pleasure|    1|  20160430|              ACK|      null|           G|             O|       null|                          M|      1950|    10292016|      null|     NZ|      2147483647|        00010|       B2|2016|    4|\n",
      "|               245|                   464|      HHW|  2016-04-30|         Air|        HI|    2016-05-12| 41|     Pleasure|    1|  20160430|              ACK|      null|           G|             O|       null|                          M|      1975|    10292016|      null|     NZ|      2147483647|        00010|       B2|2016|    4|\n",
      "|               245|                   464|      HOU|  2016-04-30|         Air|        FL|    2016-05-07| 27|     Pleasure|    1|  20160430|              ACK|      null|           G|             O|       null|                          M|      1989|    10292016|      null|     NZ|      2147483647|        00028|       B2|2016|    4|\n",
      "|               245|                   464|      LOS|  2016-04-30|         Air|        CA|    2016-05-07| 26|     Pleasure|    1|  20160430|              ACK|      null|           G|             O|       null|                          M|      1990|    10292016|      null|     NZ|      2147483647|        00002|       B2|2016|    4|\n",
      "|               245|                   504|      NEW|  2016-04-30|         Air|        MA|    2016-05-02| 44|     Pleasure|    1|  20160430|              GUZ|      null|           G|             O|       null|                          M|      1972|    10292016|      null|     UA|      2147483647|        01215|       B2|2016|    4|\n",
      "|               245|                   504|      LOS|  2016-04-30|         Air|      null|    2016-05-01| 39|     Pleasure|    1|  20160430|              GUZ|      null|           G|             O|       null|                          M|      1977|    10292016|      null|     CM|      2147483647|        00472|       B2|2016|    4|\n",
      "|               245|                   504|      WAS|  2016-04-30|         Air|        VA|    2016-05-22| 38|     Pleasure|    1|  20160430|              PNM|      null|           G|             O|       null|                          M|      1978|    10292016|      null|     CM|      2147483647|        00488|       B2|2016|    4|\n",
      "|               245|                   504|      LOS|  2016-04-30|         Air|        CA|    2016-05-03| 56|     Pleasure|    1|  20160430|              PNM|      null|           G|             O|       null|                          M|      1960|    10292016|      null|     CM|      2147483647|        00302|       B2|2016|    4|\n",
      "|               245|                   504|      LOS|  2016-04-30|         Air|        CA|    2016-05-03| 38|     Pleasure|    1|  20160430|              PNM|      null|           G|             O|       null|                          M|      1978|    10282016|      null|     CM|      2147483647|        00302|       B2|2016|    4|\n",
      "|               245|                   504|      MIA|  2016-04-30|         Air|        FL|    2016-05-07| 53|     Pleasure|    1|  20160430|              PNM|      null|           G|             O|       null|                          M|      1963|    10292016|      null|     CM|      2147483647|        00430|       B2|2016|    4|\n",
      "|               245|                   528|      SFR|  2016-04-30|         Air|        CA|          null| 84|     Pleasure|    1|  20160430|              HNK|      null|           G|          null|       null|                       null|      1932|    10282016|      null|     CX|      2147483647|        00872|       B2|2016|    4|\n",
      "|               245|                   582|      HOU|  2016-04-30|         Air|        TX|    2016-05-09| 43|     Business|    1|  20160430|              GUZ|      null|           G|             O|       null|                          M|      1973|    10292016|      null|     UA|      2147483647|        05574|       B1|2016|    4|\n",
      "|               245|                   582|      HOU|  2016-04-30|         Air|        TX|    2016-05-09| 30|     Business|    1|  20160430|              GUZ|      null|           G|             O|       null|                          M|      1986|    10292016|      null|     UA|      2147483647|        05574|       B1|2016|    4|\n",
      "|               245|                   582|      LOS|  2016-04-30|         Air|        CA|    2016-05-01| 34|     Pleasure|    1|  20160430|              SHG|      null|           G|             O|       null|                          M|      1982|    10292016|      null|     AM|      2147483647|        00646|       B2|2016|    4|\n",
      "+------------------+----------------------+---------+------------+------------+----------+--------------+---+-------------+-----+----------+-----------------+----------+------------+--------------+-----------+---------------------------+----------+------------+----------+-------+----------------+-------------+---------+----+-----+\n",
      "only showing top 20 rows\n",
      "\n"
     ]
    }
   ],
   "source": [
    "from pyspark.sql import SparkSession\n",
    "\n",
    "spark = SparkSession.builder.enableHiveSupport().getOrCreate();\n",
    "\n",
    "df = spark.read.parquet('output/immigrations/')\n",
    "df.show()"
   ]
  },
  {
   "cell_type": "markdown",
   "metadata": {
    "pycharm": {
     "name": "#%%\n"
    }
   },
   "source": [
    "###Q1. Which country does most immigrations come from?"
   ]
  },
  {
   "cell_type": "markdown",
   "metadata": {
    "pycharm": {
     "name": "#%%\n"
    }
   },
   "source": [
    "## Which is the hottest destination?"
   ]
  },
  {
   "cell_type": "code",
   "execution_count": null,
   "metadata": {
    "pycharm": {
     "name": "#%%\n"
    }
   },
   "outputs": [],
   "source": [
    "\n"
   ]
  }
 ],
 "metadata": {
  "kernelspec": {
   "display_name": "Python 3",
   "language": "python",
   "name": "python3"
  },
  "language_info": {
   "codemirror_mode": {
    "name": "ipython",
    "version": 3
   },
   "file_extension": ".py",
   "mimetype": "text/x-python",
   "name": "python",
   "nbconvert_exporter": "python",
   "pygments_lexer": "ipython3",
   "version": "3.7.6"
  },
  "pycharm": {
   "stem_cell": {
    "cell_type": "raw",
    "metadata": {
     "collapsed": false
    },
    "source": [
     "#I94 Immigration Data Prob\n",
     "\n"
    ]
   }
  }
 },
 "nbformat": 4,
 "nbformat_minor": 1
}
