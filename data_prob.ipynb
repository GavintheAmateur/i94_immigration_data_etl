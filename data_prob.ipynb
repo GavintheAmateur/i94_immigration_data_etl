{
 "cells": [
  {
   "cell_type": "markdown",
   "metadata": {
    "pycharm": {
     "name": "#%% md\n"
    },
    "scrolled": true
   },
   "source": [
    "# I94 Immigration Data Prob"
   ]
  },
  {
   "cell_type": "markdown",
   "source": [
    "### First let's start spark and load the data:"
   ],
   "metadata": {
    "collapsed": false,
    "pycharm": {
     "name": "#%% md\n"
    }
   }
  },
  {
   "cell_type": "code",
   "execution_count": 3,
   "outputs": [
    {
     "name": "stdout",
     "output_type": "stream",
     "text": [
      "+------------------+----------------------+---------+------------+------------+----------+--------------+---+-------------+-----+----------+-----------------+----------+------------+--------------+-----------+---------------------------+----------+------------+----------+-------+----------------+-------------+---------+----+-----+\n",
      "|birth_country_code|residence_country_code|port_code|arrival_date|arrival_mode|state_code|departure_date|age|visa_category|count|date_added|visa_issuing_post|occupation|arrival_flag|departure_flag|update_flag|match_arrival_departure_fag|birth_year|allowed_date|ins_number|airline|admission_number|flight_number|visa_type|year|month|\n",
      "+------------------+----------------------+---------+------------+------------+----------+--------------+---+-------------+-----+----------+-----------------+----------+------------+--------------+-----------+---------------------------+----------+------------+----------+-------+----------------+-------------+---------+----+-----+\n",
      "|               245|                   438|      LOS|  2016-04-30|         Air|        CA|    2016-05-08| 40|     Business|    1|  20160430|              SYD|      null|           G|             O|       null|                          M|      1976|    10292016|      null|     QF|      2147483647|        00011|       B1|2016|    4|\n",
      "|               245|                   438|      LOS|  2016-04-30|         Air|        NV|    2016-05-17| 32|     Business|    1|  20160430|              SYD|      null|           G|             O|       null|                          M|      1984|    10292016|      null|     VA|      2147483647|        00007|       B1|2016|    4|\n",
      "|               245|                   438|      LOS|  2016-04-30|         Air|        WA|    2016-05-08| 29|     Business|    1|  20160430|              SYD|      null|           G|             O|       null|                          M|      1987|    10292016|      null|     DL|      2147483647|        00040|       B1|2016|    4|\n",
      "|               245|                   438|      LOS|  2016-04-30|         Air|        WA|    2016-05-14| 29|     Business|    1|  20160430|              SYD|      null|           G|             O|       null|                          M|      1987|    10292016|      null|     DL|      2147483647|        00040|       B1|2016|    4|\n",
      "|               245|                   438|      LOS|  2016-04-30|         Air|        WA|    2016-05-14| 28|     Business|    1|  20160430|              SYD|      null|           G|             O|       null|                          M|      1988|    10292016|      null|     DL|      2147483647|        00040|       B1|2016|    4|\n",
      "|               245|                   464|      HHW|  2016-04-30|         Air|        HI|    2016-05-05| 57|     Pleasure|    1|  20160430|              ACK|      null|           G|             O|       null|                          M|      1959|    10292016|      null|     NZ|      2147483647|        00010|       B2|2016|    4|\n",
      "|               245|                   464|      HHW|  2016-04-30|         Air|        HI|    2016-05-12| 66|     Pleasure|    1|  20160430|              ACK|      null|           G|             O|       null|                          M|      1950|    10292016|      null|     NZ|      2147483647|        00010|       B2|2016|    4|\n",
      "|               245|                   464|      HHW|  2016-04-30|         Air|        HI|    2016-05-12| 41|     Pleasure|    1|  20160430|              ACK|      null|           G|             O|       null|                          M|      1975|    10292016|      null|     NZ|      2147483647|        00010|       B2|2016|    4|\n",
      "|               245|                   464|      HOU|  2016-04-30|         Air|        FL|    2016-05-07| 27|     Pleasure|    1|  20160430|              ACK|      null|           G|             O|       null|                          M|      1989|    10292016|      null|     NZ|      2147483647|        00028|       B2|2016|    4|\n",
      "|               245|                   464|      LOS|  2016-04-30|         Air|        CA|    2016-05-07| 26|     Pleasure|    1|  20160430|              ACK|      null|           G|             O|       null|                          M|      1990|    10292016|      null|     NZ|      2147483647|        00002|       B2|2016|    4|\n",
      "|               245|                   504|      NEW|  2016-04-30|         Air|        MA|    2016-05-02| 44|     Pleasure|    1|  20160430|              GUZ|      null|           G|             O|       null|                          M|      1972|    10292016|      null|     UA|      2147483647|        01215|       B2|2016|    4|\n",
      "|               245|                   504|      LOS|  2016-04-30|         Air|      null|    2016-05-01| 39|     Pleasure|    1|  20160430|              GUZ|      null|           G|             O|       null|                          M|      1977|    10292016|      null|     CM|      2147483647|        00472|       B2|2016|    4|\n",
      "|               245|                   504|      WAS|  2016-04-30|         Air|        VA|    2016-05-22| 38|     Pleasure|    1|  20160430|              PNM|      null|           G|             O|       null|                          M|      1978|    10292016|      null|     CM|      2147483647|        00488|       B2|2016|    4|\n",
      "|               245|                   504|      LOS|  2016-04-30|         Air|        CA|    2016-05-03| 56|     Pleasure|    1|  20160430|              PNM|      null|           G|             O|       null|                          M|      1960|    10292016|      null|     CM|      2147483647|        00302|       B2|2016|    4|\n",
      "|               245|                   504|      LOS|  2016-04-30|         Air|        CA|    2016-05-03| 38|     Pleasure|    1|  20160430|              PNM|      null|           G|             O|       null|                          M|      1978|    10282016|      null|     CM|      2147483647|        00302|       B2|2016|    4|\n",
      "|               245|                   504|      MIA|  2016-04-30|         Air|        FL|    2016-05-07| 53|     Pleasure|    1|  20160430|              PNM|      null|           G|             O|       null|                          M|      1963|    10292016|      null|     CM|      2147483647|        00430|       B2|2016|    4|\n",
      "|               245|                   528|      SFR|  2016-04-30|         Air|        CA|          null| 84|     Pleasure|    1|  20160430|              HNK|      null|           G|          null|       null|                       null|      1932|    10282016|      null|     CX|      2147483647|        00872|       B2|2016|    4|\n",
      "|               245|                   582|      HOU|  2016-04-30|         Air|        TX|    2016-05-09| 43|     Business|    1|  20160430|              GUZ|      null|           G|             O|       null|                          M|      1973|    10292016|      null|     UA|      2147483647|        05574|       B1|2016|    4|\n",
      "|               245|                   582|      HOU|  2016-04-30|         Air|        TX|    2016-05-09| 30|     Business|    1|  20160430|              GUZ|      null|           G|             O|       null|                          M|      1986|    10292016|      null|     UA|      2147483647|        05574|       B1|2016|    4|\n",
      "|               245|                   582|      LOS|  2016-04-30|         Air|        CA|    2016-05-01| 34|     Pleasure|    1|  20160430|              SHG|      null|           G|             O|       null|                          M|      1982|    10292016|      null|     AM|      2147483647|        00646|       B2|2016|    4|\n",
      "+------------------+----------------------+---------+------------+------------+----------+--------------+---+-------------+-----+----------+-----------------+----------+------------+--------------+-----------+---------------------------+----------+------------+----------+-------+----------------+-------------+---------+----+-----+\n",
      "only showing top 20 rows\n",
      "\n"
     ]
    },
    {
     "ename": "AttributeError",
     "evalue": "'DataFrame' object has no attribute 'countries'",
     "output_type": "error",
     "traceback": [
      "\u001B[0;31m---------------------------------------------------------------------------\u001B[0m",
      "\u001B[0;31mAttributeError\u001B[0m                            Traceback (most recent call last)",
      "\u001B[0;32m<ipython-input-3-886f8ecf4bc4>\u001B[0m in \u001B[0;36m<module>\u001B[0;34m\u001B[0m\n\u001B[1;32m      8\u001B[0m \u001B[0mdf_countries\u001B[0m\u001B[0;34m.\u001B[0m\u001B[0mcreateOrReplaceTempView\u001B[0m\u001B[0;34m(\u001B[0m\u001B[0;34m\"country_codes\"\u001B[0m\u001B[0;34m)\u001B[0m\u001B[0;34m\u001B[0m\u001B[0;34m\u001B[0m\u001B[0m\n\u001B[1;32m      9\u001B[0m \u001B[0mdf\u001B[0m\u001B[0;34m.\u001B[0m\u001B[0mshow\u001B[0m\u001B[0;34m(\u001B[0m\u001B[0;34m)\u001B[0m\u001B[0;34m\u001B[0m\u001B[0;34m\u001B[0m\u001B[0m\n\u001B[0;32m---> 10\u001B[0;31m \u001B[0mdf\u001B[0m\u001B[0;34m.\u001B[0m\u001B[0mcountries\u001B[0m\u001B[0;34m.\u001B[0m\u001B[0mshow\u001B[0m\u001B[0;34m(\u001B[0m\u001B[0;34m)\u001B[0m\u001B[0;34m\u001B[0m\u001B[0;34m\u001B[0m\u001B[0m\n\u001B[0m\u001B[1;32m     11\u001B[0m \u001B[0;34m\u001B[0m\u001B[0m\n",
      "\u001B[0;32m/Applications/miniconda3/lib/python3.7/site-packages/pyspark/sql/dataframe.py\u001B[0m in \u001B[0;36m__getattr__\u001B[0;34m(self, name)\u001B[0m\n\u001B[1;32m   1302\u001B[0m         \u001B[0;32mif\u001B[0m \u001B[0mname\u001B[0m \u001B[0;32mnot\u001B[0m \u001B[0;32min\u001B[0m \u001B[0mself\u001B[0m\u001B[0;34m.\u001B[0m\u001B[0mcolumns\u001B[0m\u001B[0;34m:\u001B[0m\u001B[0;34m\u001B[0m\u001B[0;34m\u001B[0m\u001B[0m\n\u001B[1;32m   1303\u001B[0m             raise AttributeError(\n\u001B[0;32m-> 1304\u001B[0;31m                 \"'%s' object has no attribute '%s'\" % (self.__class__.__name__, name))\n\u001B[0m\u001B[1;32m   1305\u001B[0m         \u001B[0mjc\u001B[0m \u001B[0;34m=\u001B[0m \u001B[0mself\u001B[0m\u001B[0;34m.\u001B[0m\u001B[0m_jdf\u001B[0m\u001B[0;34m.\u001B[0m\u001B[0mapply\u001B[0m\u001B[0;34m(\u001B[0m\u001B[0mname\u001B[0m\u001B[0;34m)\u001B[0m\u001B[0;34m\u001B[0m\u001B[0;34m\u001B[0m\u001B[0m\n\u001B[1;32m   1306\u001B[0m         \u001B[0;32mreturn\u001B[0m \u001B[0mColumn\u001B[0m\u001B[0;34m(\u001B[0m\u001B[0mjc\u001B[0m\u001B[0;34m)\u001B[0m\u001B[0;34m\u001B[0m\u001B[0;34m\u001B[0m\u001B[0m\n",
      "\u001B[0;31mAttributeError\u001B[0m: 'DataFrame' object has no attribute 'countries'"
     ]
    }
   ],
   "source": [
    "from pyspark.sql import SparkSession\n",
    "\n",
    "spark = SparkSession.builder.enableHiveSupport().getOrCreate();\n",
    "\n",
    "df = spark.read.parquet('output/immigrations/')\n",
    "df.createOrReplaceTempView(\"immigration\")\n",
    "df.show()"
   ],
   "metadata": {
    "collapsed": false,
    "pycharm": {
     "name": "#%%\n"
    }
   }
  },
  {
   "cell_type": "markdown",
   "source": [
    "### Now let's start from simple questions:\n",
    "\n",
    "#### Q1. Which country does most immigrations come from?"
   ],
   "metadata": {
    "collapsed": false,
    "pycharm": {
     "name": "#%% md\n"
    }
   }
  },
  {
   "cell_type": "code",
   "execution_count": 7,
   "outputs": [
    {
     "name": "stdout",
     "output_type": "stream",
     "text": [
      "+----+--------------------+\n",
      "|code|             country|\n",
      "+----+--------------------+\n",
      "| 582|MEXICO Air Sea, a...|\n",
      "| 236|         AFGHANISTAN|\n",
      "| 101|             ALBANIA|\n",
      "| 316|             ALGERIA|\n",
      "| 102|             ANDORRA|\n",
      "| 324|              ANGOLA|\n",
      "| 529|            ANGUILLA|\n",
      "| 518|     ANTIGUA-BARBUDA|\n",
      "| 687|           ARGENTINA|\n",
      "| 151|             ARMENIA|\n",
      "| 532|               ARUBA|\n",
      "| 438|           AUSTRALIA|\n",
      "| 103|             AUSTRIA|\n",
      "| 152|          AZERBAIJAN|\n",
      "| 512|             BAHAMAS|\n",
      "| 298|             BAHRAIN|\n",
      "| 274|          BANGLADESH|\n",
      "| 513|            BARBADOS|\n",
      "| 104|             BELGIUM|\n",
      "| 581|              BELIZE|\n",
      "+----+--------------------+\n",
      "only showing top 20 rows\n",
      "\n",
      "+--------------------+--------+\n",
      "|             country|count(1)|\n",
      "+--------------------+--------+\n",
      "|      UNITED KINGDOM|  368421|\n",
      "|               JAPAN|  249167|\n",
      "|          CHINA, PRC|  185609|\n",
      "|              FRANCE|  185339|\n",
      "|MEXICO Air Sea, a...|  179603|\n",
      "|             GERMANY|  156613|\n",
      "|         SOUTH KOREA|  136312|\n",
      "|              BRAZIL|  134907|\n",
      "|           AUSTRALIA|  112407|\n",
      "|               INDIA|  107193|\n",
      "|           ARGENTINA|   75128|\n",
      "|         NETHERLANDS|   74619|\n",
      "|               ITALY|   65782|\n",
      "|            COLOMBIA|   54330|\n",
      "|               SPAIN|   49138|\n",
      "|         SWITZERLAND|   47969|\n",
      "|              SWEDEN|   45063|\n",
      "|              ISRAEL|   43435|\n",
      "|             ECUADOR|   42495|\n",
      "|           VENEZUELA|   40979|\n",
      "+--------------------+--------+\n",
      "only showing top 20 rows\n",
      "\n"
     ]
    }
   ],
   "source": [
    "df_countries = spark.read.csv('output/country_codes.csv',header=True)\n",
    "df_countries.createOrReplaceTempView(\"country_codes\")\n",
    "df_countries.show()\n",
    "\n",
    "dfr = spark.sql(\n",
    "    '''\n",
    "    select cc.country,count(1)\n",
    "    from immigration i\n",
    "    join country_codes cc on cc.code = i.residence_country_code\n",
    "    group by cc.country\n",
    "    order by count(1) desc\n",
    "    '''\n",
    ")\n",
    "dfr.show()"
   ],
   "metadata": {
    "collapsed": false,
    "pycharm": {
     "name": "#%%\n"
    }
   }
  },
  {
   "cell_type": "markdown",
   "source": [
    "conclusion: top incoming countries are:\n",
    "|UNITED KINGDOM      |  368421|\n",
    "|               JAPAN|  249167|\n",
    "|          CHINA, PRC|  185609|\n",
    "|              FRANCE|  185339|\n",
    "|MEXICO Air Sea, a...|  179603|\n",
    "|             GERMANY|  156613|\n",
    "|         SOUTH KOREA|  136312|\n",
    "|              BRAZIL|  134907|\n",
    "|           AUSTRALIA|  112407|\n",
    "|               INDIA|  107193\n",
    "\n"
   ],
   "metadata": {
    "collapsed": false,
    "pycharm": {
     "name": "#%% md\n"
    }
   }
  },
  {
   "cell_type": "code",
   "execution_count": null,
   "outputs": [],
   "source": [
    "\n"
   ],
   "metadata": {
    "collapsed": false,
    "pycharm": {
     "name": "#%%\n"
    }
   }
  }
 ],
 "metadata": {
  "kernelspec": {
   "display_name": "Python 3",
   "language": "python",
   "name": "python3"
  },
  "language_info": {
   "codemirror_mode": {
    "name": "ipython",
    "version": 3
   },
   "file_extension": ".py",
   "mimetype": "text/x-python",
   "name": "python",
   "nbconvert_exporter": "python",
   "pygments_lexer": "ipython3",
   "version": "3.7.6"
  }
 },
 "nbformat": 4,
 "nbformat_minor": 1
}