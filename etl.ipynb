{
 "cells": [
  {
   "cell_type": "code",
   "execution_count": 1,
   "metadata": {
    "collapsed": true
   },
   "outputs": [
    {
     "data": {
      "text/plain": "                 dt  AverageTemperature  AverageTemperatureUncertainty  \\\n0        1743-11-01               6.068                          1.737   \n1        1743-12-01                 NaN                            NaN   \n2        1744-01-01                 NaN                            NaN   \n3        1744-02-01                 NaN                            NaN   \n4        1744-03-01                 NaN                            NaN   \n...             ...                 ...                            ...   \n8599207  2013-05-01              11.464                          0.236   \n8599208  2013-06-01              15.043                          0.261   \n8599209  2013-07-01              18.775                          0.193   \n8599210  2013-08-01              18.025                          0.298   \n8599211  2013-09-01                 NaN                            NaN   \n\n           City      Country Latitude Longitude  \n0         Århus      Denmark   57.05N    10.33E  \n1         Århus      Denmark   57.05N    10.33E  \n2         Århus      Denmark   57.05N    10.33E  \n3         Århus      Denmark   57.05N    10.33E  \n4         Århus      Denmark   57.05N    10.33E  \n...         ...          ...      ...       ...  \n8599207  Zwolle  Netherlands   52.24N     5.26E  \n8599208  Zwolle  Netherlands   52.24N     5.26E  \n8599209  Zwolle  Netherlands   52.24N     5.26E  \n8599210  Zwolle  Netherlands   52.24N     5.26E  \n8599211  Zwolle  Netherlands   52.24N     5.26E  \n\n[8599212 rows x 7 columns]",
      "text/html": "<div>\n<style scoped>\n    .dataframe tbody tr th:only-of-type {\n        vertical-align: middle;\n    }\n\n    .dataframe tbody tr th {\n        vertical-align: top;\n    }\n\n    .dataframe thead th {\n        text-align: right;\n    }\n</style>\n<table border=\"1\" class=\"dataframe\">\n  <thead>\n    <tr style=\"text-align: right;\">\n      <th></th>\n      <th>dt</th>\n      <th>AverageTemperature</th>\n      <th>AverageTemperatureUncertainty</th>\n      <th>City</th>\n      <th>Country</th>\n      <th>Latitude</th>\n      <th>Longitude</th>\n    </tr>\n  </thead>\n  <tbody>\n    <tr>\n      <th>0</th>\n      <td>1743-11-01</td>\n      <td>6.068</td>\n      <td>1.737</td>\n      <td>Århus</td>\n      <td>Denmark</td>\n      <td>57.05N</td>\n      <td>10.33E</td>\n    </tr>\n    <tr>\n      <th>1</th>\n      <td>1743-12-01</td>\n      <td>NaN</td>\n      <td>NaN</td>\n      <td>Århus</td>\n      <td>Denmark</td>\n      <td>57.05N</td>\n      <td>10.33E</td>\n    </tr>\n    <tr>\n      <th>2</th>\n      <td>1744-01-01</td>\n      <td>NaN</td>\n      <td>NaN</td>\n      <td>Århus</td>\n      <td>Denmark</td>\n      <td>57.05N</td>\n      <td>10.33E</td>\n    </tr>\n    <tr>\n      <th>3</th>\n      <td>1744-02-01</td>\n      <td>NaN</td>\n      <td>NaN</td>\n      <td>Århus</td>\n      <td>Denmark</td>\n      <td>57.05N</td>\n      <td>10.33E</td>\n    </tr>\n    <tr>\n      <th>4</th>\n      <td>1744-03-01</td>\n      <td>NaN</td>\n      <td>NaN</td>\n      <td>Århus</td>\n      <td>Denmark</td>\n      <td>57.05N</td>\n      <td>10.33E</td>\n    </tr>\n    <tr>\n      <th>...</th>\n      <td>...</td>\n      <td>...</td>\n      <td>...</td>\n      <td>...</td>\n      <td>...</td>\n      <td>...</td>\n      <td>...</td>\n    </tr>\n    <tr>\n      <th>8599207</th>\n      <td>2013-05-01</td>\n      <td>11.464</td>\n      <td>0.236</td>\n      <td>Zwolle</td>\n      <td>Netherlands</td>\n      <td>52.24N</td>\n      <td>5.26E</td>\n    </tr>\n    <tr>\n      <th>8599208</th>\n      <td>2013-06-01</td>\n      <td>15.043</td>\n      <td>0.261</td>\n      <td>Zwolle</td>\n      <td>Netherlands</td>\n      <td>52.24N</td>\n      <td>5.26E</td>\n    </tr>\n    <tr>\n      <th>8599209</th>\n      <td>2013-07-01</td>\n      <td>18.775</td>\n      <td>0.193</td>\n      <td>Zwolle</td>\n      <td>Netherlands</td>\n      <td>52.24N</td>\n      <td>5.26E</td>\n    </tr>\n    <tr>\n      <th>8599210</th>\n      <td>2013-08-01</td>\n      <td>18.025</td>\n      <td>0.298</td>\n      <td>Zwolle</td>\n      <td>Netherlands</td>\n      <td>52.24N</td>\n      <td>5.26E</td>\n    </tr>\n    <tr>\n      <th>8599211</th>\n      <td>2013-09-01</td>\n      <td>NaN</td>\n      <td>NaN</td>\n      <td>Zwolle</td>\n      <td>Netherlands</td>\n      <td>52.24N</td>\n      <td>5.26E</td>\n    </tr>\n  </tbody>\n</table>\n<p>8599212 rows × 7 columns</p>\n</div>"
     },
     "execution_count": 1,
     "metadata": {},
     "output_type": "execute_result"
    }
   ],
   "source": [
    "import pandas as pd\n",
    "\n",
    "df = pd.read_csv('../../data2/GlobalLandTemperaturesByCity.csv')\n",
    "df"
   ]
  },
  {
   "cell_type": "code",
   "execution_count": 2,
   "outputs": [
    {
     "data": {
      "text/plain": "3448"
     },
     "execution_count": 2,
     "metadata": {},
     "output_type": "execute_result"
    }
   ],
   "source": [
    "cl = df['City'].values.tolist()\n",
    "len(set(cl))\n"
   ],
   "metadata": {
    "collapsed": false,
    "pycharm": {
     "name": "#%%\n"
    }
   }
  },
  {
   "cell_type": "code",
   "execution_count": 5,
   "outputs": [
    {
     "data": {
      "text/plain": "                 dt  AverageTemperature  AverageTemperatureUncertainty  \\\n0        1743-11-01               6.068                          1.737   \n1        1743-12-01                 NaN                            NaN   \n2        1744-01-01                 NaN                            NaN   \n3        1744-02-01                 NaN                            NaN   \n4        1744-03-01                 NaN                            NaN   \n...             ...                 ...                            ...   \n8599207  2013-05-01              11.464                          0.236   \n8599208  2013-06-01              15.043                          0.261   \n8599209  2013-07-01              18.775                          0.193   \n8599210  2013-08-01              18.025                          0.298   \n8599211  2013-09-01                 NaN                            NaN   \n\n           City      Country Latitude Longitude  year month day  \n0         Århus      Denmark   57.05N    10.33E  1743    11  01  \n1         Århus      Denmark   57.05N    10.33E  1743    12  01  \n2         Århus      Denmark   57.05N    10.33E  1744    01  01  \n3         Århus      Denmark   57.05N    10.33E  1744    02  01  \n4         Århus      Denmark   57.05N    10.33E  1744    03  01  \n...         ...          ...      ...       ...   ...   ...  ..  \n8599207  Zwolle  Netherlands   52.24N     5.26E  2013    05  01  \n8599208  Zwolle  Netherlands   52.24N     5.26E  2013    06  01  \n8599209  Zwolle  Netherlands   52.24N     5.26E  2013    07  01  \n8599210  Zwolle  Netherlands   52.24N     5.26E  2013    08  01  \n8599211  Zwolle  Netherlands   52.24N     5.26E  2013    09  01  \n\n[8599212 rows x 10 columns]",
      "text/html": "<div>\n<style scoped>\n    .dataframe tbody tr th:only-of-type {\n        vertical-align: middle;\n    }\n\n    .dataframe tbody tr th {\n        vertical-align: top;\n    }\n\n    .dataframe thead th {\n        text-align: right;\n    }\n</style>\n<table border=\"1\" class=\"dataframe\">\n  <thead>\n    <tr style=\"text-align: right;\">\n      <th></th>\n      <th>dt</th>\n      <th>AverageTemperature</th>\n      <th>AverageTemperatureUncertainty</th>\n      <th>City</th>\n      <th>Country</th>\n      <th>Latitude</th>\n      <th>Longitude</th>\n      <th>year</th>\n      <th>month</th>\n      <th>day</th>\n    </tr>\n  </thead>\n  <tbody>\n    <tr>\n      <th>0</th>\n      <td>1743-11-01</td>\n      <td>6.068</td>\n      <td>1.737</td>\n      <td>Århus</td>\n      <td>Denmark</td>\n      <td>57.05N</td>\n      <td>10.33E</td>\n      <td>1743</td>\n      <td>11</td>\n      <td>01</td>\n    </tr>\n    <tr>\n      <th>1</th>\n      <td>1743-12-01</td>\n      <td>NaN</td>\n      <td>NaN</td>\n      <td>Århus</td>\n      <td>Denmark</td>\n      <td>57.05N</td>\n      <td>10.33E</td>\n      <td>1743</td>\n      <td>12</td>\n      <td>01</td>\n    </tr>\n    <tr>\n      <th>2</th>\n      <td>1744-01-01</td>\n      <td>NaN</td>\n      <td>NaN</td>\n      <td>Århus</td>\n      <td>Denmark</td>\n      <td>57.05N</td>\n      <td>10.33E</td>\n      <td>1744</td>\n      <td>01</td>\n      <td>01</td>\n    </tr>\n    <tr>\n      <th>3</th>\n      <td>1744-02-01</td>\n      <td>NaN</td>\n      <td>NaN</td>\n      <td>Århus</td>\n      <td>Denmark</td>\n      <td>57.05N</td>\n      <td>10.33E</td>\n      <td>1744</td>\n      <td>02</td>\n      <td>01</td>\n    </tr>\n    <tr>\n      <th>4</th>\n      <td>1744-03-01</td>\n      <td>NaN</td>\n      <td>NaN</td>\n      <td>Århus</td>\n      <td>Denmark</td>\n      <td>57.05N</td>\n      <td>10.33E</td>\n      <td>1744</td>\n      <td>03</td>\n      <td>01</td>\n    </tr>\n    <tr>\n      <th>...</th>\n      <td>...</td>\n      <td>...</td>\n      <td>...</td>\n      <td>...</td>\n      <td>...</td>\n      <td>...</td>\n      <td>...</td>\n      <td>...</td>\n      <td>...</td>\n      <td>...</td>\n    </tr>\n    <tr>\n      <th>8599207</th>\n      <td>2013-05-01</td>\n      <td>11.464</td>\n      <td>0.236</td>\n      <td>Zwolle</td>\n      <td>Netherlands</td>\n      <td>52.24N</td>\n      <td>5.26E</td>\n      <td>2013</td>\n      <td>05</td>\n      <td>01</td>\n    </tr>\n    <tr>\n      <th>8599208</th>\n      <td>2013-06-01</td>\n      <td>15.043</td>\n      <td>0.261</td>\n      <td>Zwolle</td>\n      <td>Netherlands</td>\n      <td>52.24N</td>\n      <td>5.26E</td>\n      <td>2013</td>\n      <td>06</td>\n      <td>01</td>\n    </tr>\n    <tr>\n      <th>8599209</th>\n      <td>2013-07-01</td>\n      <td>18.775</td>\n      <td>0.193</td>\n      <td>Zwolle</td>\n      <td>Netherlands</td>\n      <td>52.24N</td>\n      <td>5.26E</td>\n      <td>2013</td>\n      <td>07</td>\n      <td>01</td>\n    </tr>\n    <tr>\n      <th>8599210</th>\n      <td>2013-08-01</td>\n      <td>18.025</td>\n      <td>0.298</td>\n      <td>Zwolle</td>\n      <td>Netherlands</td>\n      <td>52.24N</td>\n      <td>5.26E</td>\n      <td>2013</td>\n      <td>08</td>\n      <td>01</td>\n    </tr>\n    <tr>\n      <th>8599211</th>\n      <td>2013-09-01</td>\n      <td>NaN</td>\n      <td>NaN</td>\n      <td>Zwolle</td>\n      <td>Netherlands</td>\n      <td>52.24N</td>\n      <td>5.26E</td>\n      <td>2013</td>\n      <td>09</td>\n      <td>01</td>\n    </tr>\n  </tbody>\n</table>\n<p>8599212 rows × 10 columns</p>\n</div>"
     },
     "execution_count": 5,
     "metadata": {},
     "output_type": "execute_result"
    }
   ],
   "source": [
    "df1 = df[df['dt']=='2013-05-03']\n",
    "df['year']=df['dt'].apply(lambda x: x.split('-')[0])\n",
    "df['month']=df['dt'].apply(lambda x: x.split('-')[1])\n",
    "df['day']=df['dt'].apply(lambda x: x.split('-')[2])\n",
    "df"
   ],
   "metadata": {
    "collapsed": false,
    "pycharm": {
     "name": "#%%\n"
    }
   }
  },
  {
   "cell_type": "code",
   "execution_count": 7,
   "outputs": [],
   "source": [
    "df5 = df[(df['month']=='08') & (df['year'] == '2010')]\n"
   ],
   "metadata": {
    "collapsed": false,
    "pycharm": {
     "name": "#%%\n"
    }
   }
  },
  {
   "cell_type": "code",
   "execution_count": 8,
   "outputs": [
    {
     "data": {
      "text/plain": "                 dt  AverageTemperature  AverageTemperatureUncertainty  \\\n3201     2010-08-01              16.898                          0.256   \n6440     2010-08-01              26.774                          0.322   \n9569     2010-08-01              24.577                          0.414   \n11887    2010-08-01              16.881                          0.325   \n14205    2010-08-01              23.153                          0.553   \n...             ...                 ...                            ...   \n8587482  2010-08-01              25.564                          0.318   \n8589567  2010-08-01              24.796                          0.302   \n8592806  2010-08-01              15.535                          0.266   \n8595935  2010-08-01              27.848                          0.260   \n8599174  2010-08-01              16.912                          0.222   \n\n            City      Country Latitude Longitude  year month day  \n3201       Århus      Denmark   57.05N    10.33E  2010    08  01  \n6440       Çorlu       Turkey   40.99N    27.69E  2010    08  01  \n9569       Çorum       Turkey   40.99N    34.08E  2010    08  01  \n11887    Öskemen   Kazakhstan   50.63N    82.39E  2010    08  01  \n14205     Ürümqi        China   44.20N    87.20E  2010    08  01  \n...          ...          ...      ...       ...   ...   ...  ..  \n8587482  Zouxian        China   36.17N   117.35E  2010    08  01  \n8589567    Zunyi        China   28.13N   106.36E  2010    08  01  \n8592806   Zurich  Switzerland   47.42N     8.29E  2010    08  01  \n8595935  Zuwarah        Libya   32.95N    12.45E  2010    08  01  \n8599174   Zwolle  Netherlands   52.24N     5.26E  2010    08  01  \n\n[3510 rows x 10 columns]",
      "text/html": "<div>\n<style scoped>\n    .dataframe tbody tr th:only-of-type {\n        vertical-align: middle;\n    }\n\n    .dataframe tbody tr th {\n        vertical-align: top;\n    }\n\n    .dataframe thead th {\n        text-align: right;\n    }\n</style>\n<table border=\"1\" class=\"dataframe\">\n  <thead>\n    <tr style=\"text-align: right;\">\n      <th></th>\n      <th>dt</th>\n      <th>AverageTemperature</th>\n      <th>AverageTemperatureUncertainty</th>\n      <th>City</th>\n      <th>Country</th>\n      <th>Latitude</th>\n      <th>Longitude</th>\n      <th>year</th>\n      <th>month</th>\n      <th>day</th>\n    </tr>\n  </thead>\n  <tbody>\n    <tr>\n      <th>3201</th>\n      <td>2010-08-01</td>\n      <td>16.898</td>\n      <td>0.256</td>\n      <td>Århus</td>\n      <td>Denmark</td>\n      <td>57.05N</td>\n      <td>10.33E</td>\n      <td>2010</td>\n      <td>08</td>\n      <td>01</td>\n    </tr>\n    <tr>\n      <th>6440</th>\n      <td>2010-08-01</td>\n      <td>26.774</td>\n      <td>0.322</td>\n      <td>Çorlu</td>\n      <td>Turkey</td>\n      <td>40.99N</td>\n      <td>27.69E</td>\n      <td>2010</td>\n      <td>08</td>\n      <td>01</td>\n    </tr>\n    <tr>\n      <th>9569</th>\n      <td>2010-08-01</td>\n      <td>24.577</td>\n      <td>0.414</td>\n      <td>Çorum</td>\n      <td>Turkey</td>\n      <td>40.99N</td>\n      <td>34.08E</td>\n      <td>2010</td>\n      <td>08</td>\n      <td>01</td>\n    </tr>\n    <tr>\n      <th>11887</th>\n      <td>2010-08-01</td>\n      <td>16.881</td>\n      <td>0.325</td>\n      <td>Öskemen</td>\n      <td>Kazakhstan</td>\n      <td>50.63N</td>\n      <td>82.39E</td>\n      <td>2010</td>\n      <td>08</td>\n      <td>01</td>\n    </tr>\n    <tr>\n      <th>14205</th>\n      <td>2010-08-01</td>\n      <td>23.153</td>\n      <td>0.553</td>\n      <td>Ürümqi</td>\n      <td>China</td>\n      <td>44.20N</td>\n      <td>87.20E</td>\n      <td>2010</td>\n      <td>08</td>\n      <td>01</td>\n    </tr>\n    <tr>\n      <th>...</th>\n      <td>...</td>\n      <td>...</td>\n      <td>...</td>\n      <td>...</td>\n      <td>...</td>\n      <td>...</td>\n      <td>...</td>\n      <td>...</td>\n      <td>...</td>\n      <td>...</td>\n    </tr>\n    <tr>\n      <th>8587482</th>\n      <td>2010-08-01</td>\n      <td>25.564</td>\n      <td>0.318</td>\n      <td>Zouxian</td>\n      <td>China</td>\n      <td>36.17N</td>\n      <td>117.35E</td>\n      <td>2010</td>\n      <td>08</td>\n      <td>01</td>\n    </tr>\n    <tr>\n      <th>8589567</th>\n      <td>2010-08-01</td>\n      <td>24.796</td>\n      <td>0.302</td>\n      <td>Zunyi</td>\n      <td>China</td>\n      <td>28.13N</td>\n      <td>106.36E</td>\n      <td>2010</td>\n      <td>08</td>\n      <td>01</td>\n    </tr>\n    <tr>\n      <th>8592806</th>\n      <td>2010-08-01</td>\n      <td>15.535</td>\n      <td>0.266</td>\n      <td>Zurich</td>\n      <td>Switzerland</td>\n      <td>47.42N</td>\n      <td>8.29E</td>\n      <td>2010</td>\n      <td>08</td>\n      <td>01</td>\n    </tr>\n    <tr>\n      <th>8595935</th>\n      <td>2010-08-01</td>\n      <td>27.848</td>\n      <td>0.260</td>\n      <td>Zuwarah</td>\n      <td>Libya</td>\n      <td>32.95N</td>\n      <td>12.45E</td>\n      <td>2010</td>\n      <td>08</td>\n      <td>01</td>\n    </tr>\n    <tr>\n      <th>8599174</th>\n      <td>2010-08-01</td>\n      <td>16.912</td>\n      <td>0.222</td>\n      <td>Zwolle</td>\n      <td>Netherlands</td>\n      <td>52.24N</td>\n      <td>5.26E</td>\n      <td>2010</td>\n      <td>08</td>\n      <td>01</td>\n    </tr>\n  </tbody>\n</table>\n<p>3510 rows × 10 columns</p>\n</div>"
     },
     "execution_count": 8,
     "metadata": {},
     "output_type": "execute_result"
    }
   ],
   "source": [
    "df5"
   ],
   "metadata": {
    "collapsed": false,
    "pycharm": {
     "name": "#%%\n"
    }
   }
  },
  {
   "cell_type": "code",
   "execution_count": null,
   "outputs": [],
   "source": [
    "\n"
   ],
   "metadata": {
    "collapsed": false,
    "pycharm": {
     "name": "#%%\n"
    }
   }
  }
 ],
 "metadata": {
  "kernelspec": {
   "name": "python3",
   "language": "python",
   "display_name": "Python 3"
  },
  "language_info": {
   "codemirror_mode": {
    "name": "ipython",
    "version": 2
   },
   "file_extension": ".py",
   "mimetype": "text/x-python",
   "name": "python",
   "nbconvert_exporter": "python",
   "pygments_lexer": "ipython2",
   "version": "2.7.6"
  }
 },
 "nbformat": 4,
 "nbformat_minor": 0
}